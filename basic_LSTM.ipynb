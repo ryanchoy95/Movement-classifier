{
  "nbformat": 4,
  "nbformat_minor": 0,
  "metadata": {
    "colab": {
      "provenance": [],
      "include_colab_link": true
    },
    "kernelspec": {
      "name": "python3",
      "display_name": "Python 3"
    },
    "accelerator": "GPU"
  },
  "cells": [
    {
      "cell_type": "markdown",
      "metadata": {
        "id": "view-in-github",
        "colab_type": "text"
      },
      "source": [
        "<a href=\"https://colab.research.google.com/github/xxxtraa/Movement-classifier/blob/main/basic_LSTM.ipynb\" target=\"_parent\"><img src=\"https://colab.research.google.com/assets/colab-badge.svg\" alt=\"Open In Colab\"/></a>"
      ]
    },
    {
      "cell_type": "markdown",
      "metadata": {
        "id": "5DCxP9xRfQxc"
      },
      "source": [
        "# Human Activity Recognition LSTM Analysis\n",
        "dataset source: https://archive.ics.uci.edu/ml/datasets/human+activity+recognition+using+smartphones"
      ]
    },
    {
      "cell_type": "markdown",
      "metadata": {
        "id": "5bfOpxnrfbri"
      },
      "source": [
        "## Setup"
      ]
    },
    {
      "cell_type": "markdown",
      "metadata": {
        "id": "n581tAa0A9I7"
      },
      "source": [
        "Import libraries"
      ]
    },
    {
      "cell_type": "code",
      "metadata": {
        "id": "X2_7vXoSAQ-p"
      },
      "source": [
        "import numpy as np\n",
        "import pandas as pd\n",
        "import tensorflow as tf\n",
        "\n",
        "from tensorflow.keras.backend import one_hot\n",
        "from keras.utils import to_categorical\n",
        "\n",
        "from keras.models import Sequential\n",
        "from keras.layers import Dense\n",
        "from keras.layers import Flatten\n",
        "from keras.layers import Dropout\n",
        "from keras.layers import LSTM\n",
        "from keras.layers import TimeDistributed\n",
        "from keras.layers import ConvLSTM2D"
      ],
      "execution_count": null,
      "outputs": []
    },
    {
      "cell_type": "markdown",
      "metadata": {
        "id": "1cq4OWbIJn_C"
      },
      "source": [
        "Set variables to load data"
      ]
    },
    {
      "cell_type": "code",
      "metadata": {
        "id": "w1gxUx_-A7UC"
      },
      "source": [
        "cur_dir = 'drive/My Drive/Colab Notebooks/2 Fall 2020/CMPE 258/group_project/UCI-HAR-Dataset/'\n",
        "train_dir = cur_dir + 'train'\n",
        "test_dir = cur_dir + 'test'"
      ],
      "execution_count": null,
      "outputs": []
    },
    {
      "cell_type": "code",
      "metadata": {
        "id": "gAhJCUlWBLCU"
      },
      "source": [
        "# total acceleration, body gyroscope, body acceleration\n",
        "measurements = ['total_acc', 'body_gyro', 'body_acc']\n",
        "# x, y, z dimensions\n",
        "dimensions = ['x', 'y', 'z']"
      ],
      "execution_count": null,
      "outputs": []
    },
    {
      "cell_type": "markdown",
      "metadata": {
        "id": "0f2BAbarfeQS"
      },
      "source": [
        "## Load data"
      ]
    },
    {
      "cell_type": "markdown",
      "metadata": {
        "id": "2MSkD8i_Bl4q"
      },
      "source": [
        "Function to load data (x)"
      ]
    },
    {
      "cell_type": "code",
      "metadata": {
        "id": "n2YV-KBBBk0x"
      },
      "source": [
        "def load_data(data_type, dir):\n",
        "    data = []\n",
        "\n",
        "    for m in measurements:\n",
        "        for d in dimensions:\n",
        "            filename = dir + '/Inertial Signals/' + m + '_' + d + '_' + data_type + '.txt'\n",
        "            # print('Load data from', filename)\n",
        "            \n",
        "            vector = pd.read_csv(filename, header=None, delim_whitespace=True).to_numpy()\n",
        "            # print('vector shape', vector.shape)\n",
        "            \n",
        "            data.append(vector)\n",
        "\n",
        "    # print('Done loading data')\n",
        "    # transform so each row is 128 x 9 feature vector w/ measurements at each timestep\n",
        "    data = np.dstack(data)\n",
        "    # print('data shape', data.shape, '\\n')\n",
        "\n",
        "    return data"
      ],
      "execution_count": null,
      "outputs": []
    },
    {
      "cell_type": "markdown",
      "metadata": {
        "id": "lpQqQIeSDkD3"
      },
      "source": [
        "Function to load labels (y)"
      ]
    },
    {
      "cell_type": "code",
      "metadata": {
        "id": "re0YIAZyDj0h"
      },
      "source": [
        "def load_labels(data_type, dir):\n",
        "    filename = dir + '/y_' + data_type + '.txt'\n",
        "    # print('Load labels from', filename)\n",
        "\n",
        "    labels = pd.read_csv(filename, header=None, delim_whitespace=True).to_numpy()\n",
        "    labels = labels.reshape(labels.shape[0])\n",
        "\n",
        "    # use one hot encoding\n",
        "    # labels = one_hot(labels, 6)\n",
        "    labels = to_categorical(labels)\n",
        "    # print('labels shape', labels.shape)\n",
        "\n",
        "    return labels"
      ],
      "execution_count": null,
      "outputs": []
    },
    {
      "cell_type": "markdown",
      "metadata": {
        "id": "UtYN9lsCeSz7"
      },
      "source": [
        "Function to load entire dataset"
      ]
    },
    {
      "cell_type": "code",
      "metadata": {
        "id": "Aqd3NPiZeSW1"
      },
      "source": [
        "def load_dataset():\n",
        "    return load_data('train', train_dir), load_labels('train', train_dir), \\\n",
        "                load_data('test', test_dir), load_labels('test', test_dir)"
      ],
      "execution_count": null,
      "outputs": []
    },
    {
      "cell_type": "markdown",
      "metadata": {
        "id": "ihfJV5G3Emz5"
      },
      "source": [
        "Load the train and test data"
      ]
    },
    {
      "cell_type": "code",
      "metadata": {
        "id": "2IEuv_79B6hx"
      },
      "source": [
        "x_train, y_train, x_test, y_test = load_dataset()"
      ],
      "execution_count": null,
      "outputs": []
    },
    {
      "cell_type": "code",
      "metadata": {
        "colab": {
          "base_uri": "https://localhost:8080/"
        },
        "id": "vYr-kSy9F_Dx",
        "outputId": "531f88df-ab4a-4f86-a220-79307e269be0"
      },
      "source": [
        "print('train', x_train.shape, y_train.shape)\n",
        "print('test', x_test.shape, y_test.shape)"
      ],
      "execution_count": null,
      "outputs": [
        {
          "output_type": "stream",
          "text": [
            "train (7352, 128, 9) (7352, 7)\n",
            "test (2947, 128, 9) (2947, 7)\n"
          ],
          "name": "stdout"
        }
      ]
    },
    {
      "cell_type": "markdown",
      "metadata": {
        "id": "gge27HnbfjWC"
      },
      "source": [
        "## Basic LSTM model"
      ]
    },
    {
      "cell_type": "markdown",
      "metadata": {
        "id": "HgfTwtNpaNDh"
      },
      "source": [
        "Create, fit, and evaluate basic LSTM model"
      ]
    },
    {
      "cell_type": "code",
      "metadata": {
        "id": "R5WdEUHTaMzf"
      },
      "source": [
        "def evaluate_basic_lstm(x_train, y_train, x_test, y_test, verbose):\n",
        "    epochs = 256\n",
        "    batch_size = 64\n",
        "\n",
        "    num_timesteps = x_train.shape[1]\n",
        "    num_features = x_train.shape[2]\n",
        "    num_outputs = y_train.shape[1]\n",
        "\n",
        "    # create the model\n",
        "    basic_model = Sequential()\n",
        "    basic_model.add(LSTM(100, input_shape=(num_timesteps, num_features)))\n",
        "    basic_model.add(Dropout(0.5))\n",
        "    basic_model.add(Dense(100, activation='relu'))\n",
        "    basic_model.add(Dense(num_outputs, activation='softmax'))\n",
        "    basic_model.compile(loss='categorical_crossentropy', optimizer='adam', metrics=['accuracy'])\n",
        "\n",
        "    # fit\n",
        "    # print('Fit:')\n",
        "    basic_model.fit(x_train, y_train, epochs=epochs, batch_size=batch_size, verbose=verbose)\n",
        "\n",
        "    # evaluate\n",
        "    # print('Evaluate:')\n",
        "    _, accuracy = basic_model.evaluate(x_test, y_test, batch_size=batch_size, verbose=verbose)\n",
        "    return accuracy, basic_model"
      ],
      "execution_count": null,
      "outputs": []
    },
    {
      "cell_type": "code",
      "metadata": {
        "id": "F_pYatbyQu1q"
      },
      "source": [
        "# accuracy, basic_model = evaluate_basic_lstm(x_train, y_train, x_test, y_test, 1)\n",
        "# print(accuracy)"
      ],
      "execution_count": null,
      "outputs": []
    },
    {
      "cell_type": "markdown",
      "metadata": {
        "id": "-D7Bignlf4HM"
      },
      "source": [
        "Evaluate the basic LSTM model multiple times"
      ]
    },
    {
      "cell_type": "code",
      "metadata": {
        "id": "wpR-fTORbiAt"
      },
      "source": [
        "x_train, y_train, x_test, y_test = load_dataset()\n",
        "accuracy_list_basic = []\n",
        "\n",
        "for i in range(10):\n",
        "    accuracy, basic_model = evaluate_basic_lstm(x_train, y_train, x_test, y_test, 0)\n",
        "    accuracy *= 100\n",
        "    print('%d: %.3f' % (i+1, accuracy))\n",
        "    accuracy_list_basic.append(accuracy)\n",
        "\n",
        "print(accuracy_list_basic)\n",
        "print('avg %.3f, std dev %.3f' % (np.mean(accuracy_list_basic), np.std(accuracy_list_basic)))"
      ],
      "execution_count": null,
      "outputs": []
    },
    {
      "cell_type": "code",
      "metadata": {
        "colab": {
          "base_uri": "https://localhost:8080/"
        },
        "id": "v3bxp5APyeVW",
        "outputId": "658dd54a-912e-43a7-c42b-229e13be05a3"
      },
      "source": [
        "print('basic LSTM model')\n",
        "basic_model.summary()"
      ],
      "execution_count": null,
      "outputs": [
        {
          "output_type": "stream",
          "text": [
            "basic LSTM model\n",
            "Model: \"sequential_9\"\n",
            "_________________________________________________________________\n",
            "Layer (type)                 Output Shape              Param #   \n",
            "=================================================================\n",
            "lstm_9 (LSTM)                (None, 100)               44000     \n",
            "_________________________________________________________________\n",
            "dropout_9 (Dropout)          (None, 100)               0         \n",
            "_________________________________________________________________\n",
            "dense_18 (Dense)             (None, 100)               10100     \n",
            "_________________________________________________________________\n",
            "dense_19 (Dense)             (None, 7)                 707       \n",
            "=================================================================\n",
            "Total params: 54,807\n",
            "Trainable params: 54,807\n",
            "Non-trainable params: 0\n",
            "_________________________________________________________________\n"
          ],
          "name": "stdout"
        }
      ]
    },
    {
      "cell_type": "markdown",
      "metadata": {
        "id": "LgZxXn36klmo"
      },
      "source": [
        "## Convolutional LSTM model (ConvLSTM)\n",
        "ConvLSTM2D from keras expects input data to have the shape (samples, time, rows, cols, channels), so the input data needs to be reshaped before fitting and evaluating the ConvLSTM model."
      ]
    },
    {
      "cell_type": "code",
      "metadata": {
        "id": "tJeBKoHakT2A"
      },
      "source": [
        "def evaluate_conv_lstm(x_train, y_train, x_test, y_test, verbose):\n",
        "    epochs = 256\n",
        "    batch_size = 64\n",
        "\n",
        "    num_timesteps = x_train.shape[1]\n",
        "    num_features = x_train.shape[2]\n",
        "    num_outputs = y_train.shape[1]\n",
        "\n",
        "    # reshape data into subsequences (samples, timesteps, rows, cols, channels)\n",
        "    timesteps = 4\n",
        "    rows = 1\n",
        "    cols = 32\n",
        "    channels = num_features\n",
        "    x_train = x_train.reshape((x_train.shape[0], timesteps, rows, cols, channels))\n",
        "    x_test = x_test.reshape((x_test.shape[0], timesteps, rows, cols, channels))\n",
        "\n",
        "    # create the model\n",
        "    conv_model = Sequential()\n",
        "    conv_model.add(ConvLSTM2D(filters=64, kernel_size=(1,3), activation='relu', \\\n",
        "                            input_shape=(timesteps, rows, cols, channels)))\n",
        "    conv_model.add(Dropout(0.5))\n",
        "    conv_model.add(Flatten())\n",
        "    conv_model.add(Dense(100, activation='relu'))\n",
        "    conv_model.add(Dense(num_outputs, activation='softmax'))\n",
        "    conv_model.compile(loss='categorical_crossentropy', optimizer='adam', metrics=['accuracy'])\n",
        "\n",
        "    # fit\n",
        "    conv_model.fit(x_train, y_train, epochs=epochs, batch_size=batch_size, verbose=verbose)\n",
        "\n",
        "    # evaluate\n",
        "    _, accuracy = conv_model.evaluate(x_test, y_test, batch_size=batch_size, verbose=verbose)\n",
        "    return accuracy, conv_model"
      ],
      "execution_count": null,
      "outputs": []
    },
    {
      "cell_type": "code",
      "metadata": {
        "id": "MCx-Ox5KnFf5"
      },
      "source": [
        "# accuracy, conv_model = evaluate_conv_lstm(x_train, y_train, x_test, y_test, 1)\n",
        "# print(accuracy)"
      ],
      "execution_count": null,
      "outputs": []
    },
    {
      "cell_type": "markdown",
      "metadata": {
        "id": "8pHESpYDn8EZ"
      },
      "source": [
        "Evaluate the ConvLSTM model multiple times"
      ]
    },
    {
      "cell_type": "code",
      "metadata": {
        "id": "nZX2pJ6onL-u"
      },
      "source": [
        "x_train, y_train, x_test, y_test = load_dataset()\n",
        "accuracy_list_conv = []\n",
        "\n",
        "for i in range(10):\n",
        "    accuracy, conv_model = evaluate_conv_lstm(x_train, y_train, x_test, y_test, 0)\n",
        "    accuracy *= 100\n",
        "    print('%d: %.3f' % (i+1, accuracy))\n",
        "    accuracy_list_conv.append(accuracy)\n",
        "\n",
        "print(accuracy_list_conv)\n",
        "print('avg %.3f, std dev %.3f' % (np.mean(accuracy_list_conv), np.std(accuracy_list_conv)))"
      ],
      "execution_count": null,
      "outputs": []
    },
    {
      "cell_type": "code",
      "metadata": {
        "colab": {
          "base_uri": "https://localhost:8080/"
        },
        "id": "r--bGvWZyhz1",
        "outputId": "011fa1c0-2ddf-4c09-dc7a-96ce5756566d"
      },
      "source": [
        "print('ConvLSTM model')\n",
        "conv_model.summary()"
      ],
      "execution_count": null,
      "outputs": [
        {
          "output_type": "stream",
          "text": [
            "ConvLSTM model\n",
            "Model: \"sequential_19\"\n",
            "_________________________________________________________________\n",
            "Layer (type)                 Output Shape              Param #   \n",
            "=================================================================\n",
            "conv_lst_m2d_9 (ConvLSTM2D)  (None, 1, 30, 64)         56320     \n",
            "_________________________________________________________________\n",
            "dropout_19 (Dropout)         (None, 1, 30, 64)         0         \n",
            "_________________________________________________________________\n",
            "flatten_9 (Flatten)          (None, 1920)              0         \n",
            "_________________________________________________________________\n",
            "dense_38 (Dense)             (None, 100)               192100    \n",
            "_________________________________________________________________\n",
            "dense_39 (Dense)             (None, 7)                 707       \n",
            "=================================================================\n",
            "Total params: 249,127\n",
            "Trainable params: 249,127\n",
            "Non-trainable params: 0\n",
            "_________________________________________________________________\n"
          ],
          "name": "stdout"
        }
      ]
    },
    {
      "cell_type": "markdown",
      "metadata": {
        "id": "rJ7xskKYzxWR"
      },
      "source": [
        "## Compare basic LSTM and ConvLSTM"
      ]
    },
    {
      "cell_type": "markdown",
      "metadata": {
        "id": "O4Xpvt2Turje"
      },
      "source": [
        "Statistics for basic LSTM"
      ]
    },
    {
      "cell_type": "code",
      "metadata": {
        "id": "2Bu-e9kFurM2"
      },
      "source": [
        "index = [i for i in range(10)]\n",
        "pd.options.display.float_format = '{:,.3f}'.format\n",
        "\n",
        "basic_df = pd.DataFrame(accuracy_list_basic, index=index, columns=['Basic LSTM'])\n",
        "basic_df.loc['min'] = [np.amin(accuracy_list_basic)]\n",
        "basic_df.loc['max'] = [np.amax(accuracy_list_basic)]\n",
        "basic_df.loc['avg'] = [np.mean(accuracy_list_basic)]\n",
        "basic_df.loc['std dev'] = [np.std(accuracy_list_basic)]\n",
        "\n",
        "basic_df"
      ],
      "execution_count": null,
      "outputs": []
    },
    {
      "cell_type": "markdown",
      "metadata": {
        "id": "Wusr5wq2vCvv"
      },
      "source": [
        "Statistics for ConvLSTM"
      ]
    },
    {
      "cell_type": "code",
      "metadata": {
        "id": "r1Lb9CDr0J0p"
      },
      "source": [
        "conv_df = pd.DataFrame(accuracy_list_conv, index=index, columns=['ConvLSTM'])\n",
        "conv_df.loc['min'] = [np.amin(accuracy_list_conv)]\n",
        "conv_df.loc['max'] = [np.amax(accuracy_list_conv)]\n",
        "conv_df.loc['avg'] = [np.mean(accuracy_list_conv)]\n",
        "conv_df.loc['std dev'] = [np.std(accuracy_list_conv)]\n",
        "\n",
        "conv_df"
      ],
      "execution_count": null,
      "outputs": []
    },
    {
      "cell_type": "markdown",
      "metadata": {
        "id": "LiWysEUIvYyX"
      },
      "source": [
        "Statistics for both basic LSTM and ConvLSTM"
      ]
    },
    {
      "cell_type": "code",
      "metadata": {
        "colab": {
          "base_uri": "https://localhost:8080/",
          "height": 465
        },
        "id": "4vBqdaxfukl_",
        "outputId": "c70ca08b-b7f6-49c2-9ef9-9f5e47f99823"
      },
      "source": [
        "combined_df = basic_df.copy()\n",
        "combined_df.insert(1, 'ConvLSTM', conv_df['ConvLSTM'].values)\n",
        "\n",
        "combined_df"
      ],
      "execution_count": null,
      "outputs": [
        {
          "output_type": "execute_result",
          "data": {
            "text/html": [
              "<div>\n",
              "<style scoped>\n",
              "    .dataframe tbody tr th:only-of-type {\n",
              "        vertical-align: middle;\n",
              "    }\n",
              "\n",
              "    .dataframe tbody tr th {\n",
              "        vertical-align: top;\n",
              "    }\n",
              "\n",
              "    .dataframe thead th {\n",
              "        text-align: right;\n",
              "    }\n",
              "</style>\n",
              "<table border=\"1\" class=\"dataframe\">\n",
              "  <thead>\n",
              "    <tr style=\"text-align: right;\">\n",
              "      <th></th>\n",
              "      <th>Basic LSTM</th>\n",
              "      <th>ConvLSTM</th>\n",
              "    </tr>\n",
              "  </thead>\n",
              "  <tbody>\n",
              "    <tr>\n",
              "      <th>1</th>\n",
              "      <td>86.868</td>\n",
              "      <td>91.483</td>\n",
              "    </tr>\n",
              "    <tr>\n",
              "      <th>2</th>\n",
              "      <td>88.972</td>\n",
              "      <td>91.653</td>\n",
              "    </tr>\n",
              "    <tr>\n",
              "      <th>3</th>\n",
              "      <td>90.193</td>\n",
              "      <td>89.922</td>\n",
              "    </tr>\n",
              "    <tr>\n",
              "      <th>4</th>\n",
              "      <td>88.225</td>\n",
              "      <td>90.736</td>\n",
              "    </tr>\n",
              "    <tr>\n",
              "      <th>5</th>\n",
              "      <td>90.397</td>\n",
              "      <td>92.331</td>\n",
              "    </tr>\n",
              "    <tr>\n",
              "      <th>6</th>\n",
              "      <td>91.449</td>\n",
              "      <td>90.601</td>\n",
              "    </tr>\n",
              "    <tr>\n",
              "      <th>7</th>\n",
              "      <td>90.092</td>\n",
              "      <td>90.397</td>\n",
              "    </tr>\n",
              "    <tr>\n",
              "      <th>8</th>\n",
              "      <td>90.397</td>\n",
              "      <td>90.092</td>\n",
              "    </tr>\n",
              "    <tr>\n",
              "      <th>9</th>\n",
              "      <td>90.126</td>\n",
              "      <td>90.329</td>\n",
              "    </tr>\n",
              "    <tr>\n",
              "      <th>10</th>\n",
              "      <td>89.345</td>\n",
              "      <td>90.159</td>\n",
              "    </tr>\n",
              "    <tr>\n",
              "      <th>min</th>\n",
              "      <td>86.868</td>\n",
              "      <td>89.922</td>\n",
              "    </tr>\n",
              "    <tr>\n",
              "      <th>max</th>\n",
              "      <td>91.449</td>\n",
              "      <td>92.331</td>\n",
              "    </tr>\n",
              "    <tr>\n",
              "      <th>avg</th>\n",
              "      <td>89.606</td>\n",
              "      <td>90.770</td>\n",
              "    </tr>\n",
              "    <tr>\n",
              "      <th>std dev</th>\n",
              "      <td>1.240</td>\n",
              "      <td>0.751</td>\n",
              "    </tr>\n",
              "  </tbody>\n",
              "</table>\n",
              "</div>"
            ],
            "text/plain": [
              "         Basic LSTM  ConvLSTM\n",
              "1            86.868    91.483\n",
              "2            88.972    91.653\n",
              "3            90.193    89.922\n",
              "4            88.225    90.736\n",
              "5            90.397    92.331\n",
              "6            91.449    90.601\n",
              "7            90.092    90.397\n",
              "8            90.397    90.092\n",
              "9            90.126    90.329\n",
              "10           89.345    90.159\n",
              "min          86.868    89.922\n",
              "max          91.449    92.331\n",
              "avg          89.606    90.770\n",
              "std dev       1.240     0.751"
            ]
          },
          "metadata": {
            "tags": []
          },
          "execution_count": 78
        }
      ]
    },
    {
      "cell_type": "markdown",
      "metadata": {
        "id": "2LwewAG-AWHM"
      },
      "source": [
        "## Confusion Matrix"
      ]
    },
    {
      "cell_type": "code",
      "metadata": {
        "id": "p48qPaa_1rFw"
      },
      "source": [
        "# sklearn/keras \n",
        "from sklearn import metrics\n",
        "import matplotlib.pyplot as plt"
      ],
      "execution_count": null,
      "outputs": []
    },
    {
      "cell_type": "markdown",
      "metadata": {
        "id": "G3SITyGG5AOF"
      },
      "source": [
        "Confusion matrix for basic LSTM"
      ]
    },
    {
      "cell_type": "code",
      "metadata": {
        "colab": {
          "base_uri": "https://localhost:8080/",
          "height": 810
        },
        "id": "lffu0W5-i_xm",
        "outputId": "ce9f05a1-09b8-48b7-81e7-2de85bdf6285"
      },
      "source": [
        "y_pred_basic = basic_model.predict(x_test)\n",
        "\n",
        "confusion_matrix_basic = metrics.confusion_matrix(y_test.argmax(1), y_pred_basic.argmax(1))\n",
        "print(confusion_matrix_basic)\n",
        "\n",
        "labels = [\"WALKING\", \"WALKING_UPSTAIRS\", \"WALKING_DOWNSTAIRS\", \"SITTING\", \"STANDING\", \"LAYING\"]\n",
        "plt.figure(figsize=(10, 10))\n",
        "plt.imshow(confusion_matrix_basic, interpolation='nearest', cmap=plt.cm.coolwarm)\n",
        "plt.title(\"Confusion Matrix (Basic LSTM)\")\n",
        "plt.colorbar()\n",
        "tick_marks = np.arange(6)\n",
        "plt.xticks(tick_marks, labels, rotation=90)\n",
        "plt.yticks(tick_marks, labels)\n",
        "plt.tight_layout()\n",
        "plt.ylabel('Actual label')\n",
        "plt.xlabel('Predicted label')\n",
        "plt.show()"
      ],
      "execution_count": null,
      "outputs": [
        {
          "output_type": "stream",
          "text": [
            "[[425  32  37   0   2   0]\n",
            " [  0 431  40   0   0   0]\n",
            " [  0   1 419   0   0   0]\n",
            " [  0  22   0 378  91   0]\n",
            " [  1   5   0  83 443   0]\n",
            " [  0   0   0   0   0 537]]\n"
          ],
          "name": "stdout"
        },
        {
          "output_type": "display_data",
          "data": {
            "image/png": "[encoded data removed]",
            "text/plain": [
              "<Figure size 720x720 with 2 Axes>"
            ]
          },
          "metadata": {
            "tags": [],
            "needs_background": "light"
          }
        }
      ]
    },
    {
      "cell_type": "markdown",
      "metadata": {
        "id": "Vldb4rxFDV4e"
      },
      "source": [
        "Confusion matrix for ConvLSTM"
      ]
    },
    {
      "cell_type": "code",
      "metadata": {
        "colab": {
          "base_uri": "https://localhost:8080/",
          "height": 810
        },
        "id": "ncY5wI6aDXKB",
        "outputId": "40dffe68-6c85-48ac-ce3e-9ab755f33aa4"
      },
      "source": [
        "# reshape data into subsequences (samples, timesteps, rows, cols, channels)\n",
        "timesteps = 4\n",
        "rows = 1\n",
        "cols = 32\n",
        "channels = x_train.shape[2]\n",
        "x_test_reshape = x_test.reshape((x_test.shape[0], timesteps, rows, cols, channels))\n",
        "\n",
        "y_pred_conv = conv_model.predict(x_test_reshape)\n",
        "confusion_matrix_conv = metrics.confusion_matrix(y_test.argmax(1), y_pred_conv.argmax(1))\n",
        "print(confusion_matrix_conv)\n",
        "\n",
        "labels = [\"WALKING\", \"WALKING_UPSTAIRS\", \"WALKING_DOWNSTAIRS\", \"SITTING\", \"STANDING\", \"LAYING\"]\n",
        "plt.figure(figsize=(10, 10))\n",
        "plt.imshow(confusion_matrix_conv, interpolation='nearest', cmap=plt.cm.coolwarm)\n",
        "plt.title(\"Confusion Matrix (ConvLSTM)\")\n",
        "plt.colorbar()\n",
        "tick_marks = np.arange(6)\n",
        "plt.xticks(tick_marks, labels, rotation=90)\n",
        "plt.yticks(tick_marks, labels)\n",
        "plt.tight_layout()\n",
        "plt.ylabel('Actual label')\n",
        "plt.xlabel('Predicted label')\n",
        "plt.show()"
      ],
      "execution_count": null,
      "outputs": [
        {
          "output_type": "stream",
          "text": [
            "[[482   4  10   0   0   0]\n",
            " [ 25 422  24   0   0   0]\n",
            " [ 15   5 400   0   0   0]\n",
            " [  0  25   0 400  66   0]\n",
            " [  3   5   1  80 443   0]\n",
            " [  0  27   0   0   0 510]]\n"
          ],
          "name": "stdout"
        },
        {
          "output_type": "display_data",
          "data": {
            "image/png": "[encoded data removed]",
            "text/plain": [
              "<Figure size 720x720 with 2 Axes>"
            ]
          },
          "metadata": {
            "tags": [],
            "needs_background": "light"
          }
        }
      ]
    }
  ]
}